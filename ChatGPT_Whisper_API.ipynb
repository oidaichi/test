{
  "nbformat": 4,
  "nbformat_minor": 0,
  "metadata": {
    "colab": {
      "provenance": [],
      "include_colab_link": true
    },
    "kernelspec": {
      "name": "python3",
      "display_name": "Python 3"
    },
    "language_info": {
      "name": "python"
    }
  },
  "cells": [
    {
      "cell_type": "markdown",
      "metadata": {
        "id": "view-in-github",
        "colab_type": "text"
      },
      "source": [
        "<a href=\"https://colab.research.google.com/github/oidaichi/test/blob/master/ChatGPT_Whisper_API.ipynb\" target=\"_parent\"><img src=\"https://colab.research.google.com/assets/colab-badge.svg\" alt=\"Open In Colab\"/></a>"
      ]
    },
    {
      "cell_type": "code",
      "execution_count": null,
      "metadata": {
        "id": "H9lZWJkrgey0"
      },
      "outputs": [],
      "source": [
        "!pip install gradio==3.20 pydub==0.25.1 gtts==2.3.1 openai==0.27.0"
      ]
    },
    {
      "cell_type": "code",
      "source": [
        "import openai\n",
        "from gtts import gTTS\n",
        "import gradio as gr\n",
        "from IPython.display import Audio\n",
        "from pydub import AudioSegment"
      ],
      "metadata": {
        "id": "nKY7i5msgjcp"
      },
      "execution_count": null,
      "outputs": []
    },
    {
      "cell_type": "code",
      "source": [
        "openai.api_key = \"***\""
      ],
      "metadata": {
        "id": "UjaYXbfngjlC"
      },
      "execution_count": null,
      "outputs": []
    },
    {
      "cell_type": "code",
      "source": [
        "class ChatGPTAPI:\n",
        "    def __init__(self, system_setting):\n",
        "        self.system = {\"role\": \"system\", \"content\": system_setting}\n",
        "        self.input_list = [self.system]\n",
        "        self.logs = []\n",
        "\n",
        "    def input_message(self, input_text):\n",
        "        self.input_list.append({\"role\": \"user\", \"content\": input_text})\n",
        "        result = openai.ChatCompletion.create(\n",
        "            model=\"gpt-3.5-turbo\", messages=self.input_list\n",
        "        )\n",
        "        self.logs.append(result)\n",
        "        self.input_list.append(\n",
        "            {\"role\": \"assistant\", \"content\": result.choices[0].message.content}\n",
        "        )\n",
        "        return self.input_list[-2][\"content\"], self.input_list[-1][\"content\"]\n",
        "\n",
        "\n",
        "# 音声ファイルをWhisperのAPIに送信して文字起こしする関数を定義\n",
        "def transcribe(audio):\n",
        "    audio_file = open(audio, \"rb\")\n",
        "    transcription = openai.Audio.transcribe(\"whisper-1\", audio_file)\n",
        "    text_user, text_chatgpt = api.input_message(transcription[\"text\"])\n",
        "\n",
        "    tts = gTTS(text=text_chatgpt, lang=\"ja\", tld=\"co.jp\", slow=False)  # gTTSオブジェクトを作成\n",
        "    tts.save(\"hello_bing.mp3\")  # 音声ファイルに保存\n",
        "    sound = AudioSegment.from_mp3(\"hello_bing.mp3\")\n",
        "    sound_2x = sound.speedup(playback_speed=1.3)\n",
        "    sound_2x.export(\"hello_bing.mp3\", format=\"mp3\")\n",
        "\n",
        "    return \"hello_bing.mp3\""
      ],
      "metadata": {
        "id": "gy2F5MvQgjtS"
      },
      "execution_count": null,
      "outputs": []
    },
    {
      "cell_type": "code",
      "source": [
        "api = ChatGPTAPI(\n",
        "    system_setting=\"あなたは常にポジティブな友達です。返答の文章は必ず30文字以内にしてください。では、会話を開始します。\"\n",
        ")"
      ],
      "metadata": {
        "id": "ZcSb_oA_gpeJ"
      },
      "execution_count": null,
      "outputs": []
    },
    {
      "cell_type": "code",
      "source": [
        "audio_input = gr.Audio(source=\"microphone\", type=\"filepath\")\n",
        "interface = gr.Interface(\n",
        "    fn=transcribe, inputs=audio_input, outputs=[gr.Audio()]\n",
        ")\n",
        "interface.launch()"
      ],
      "metadata": {
        "id": "vX-jDD-Vgp91"
      },
      "execution_count": null,
      "outputs": []
    }
  ]
}